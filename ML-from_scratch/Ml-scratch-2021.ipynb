{
 "cells": [
  {
   "cell_type": "code",
   "execution_count": 4,
   "id": "61a11e66",
   "metadata": {},
   "outputs": [],
   "source": [
    "import numpy as np\n",
    "import torch\n",
    "from matplotlib import pyplot as plt\n"
   ]
  },
  {
   "cell_type": "markdown",
   "id": "63342894",
   "metadata": {},
   "source": [
    "#  Logistic Regression\n",
    "\n"
   ]
  },
  {
   "cell_type": "code",
   "execution_count": 34,
   "id": "e2c41eb8",
   "metadata": {
    "scrolled": true
   },
   "outputs": [
    {
     "name": "stdout",
     "output_type": "stream",
     "text": [
      "(100,)\n"
     ]
    }
   ],
   "source": [
    "# create linear data \n",
    "\n",
    "np.random.seed(123)\n",
    "x = np.random.randint(0,100, (100,10))\n",
    "delta = np.random.uniform(-10,10, x.shape)\n",
    "\n",
    "X = np.add(np.dot(x, 0.4) ,delta)\n",
    "y = np.random.randint(0,2, (100,))\n",
    "\n",
    "\n",
    "# print( y[0:20])\n",
    "print(y.shape)"
   ]
  },
  {
   "cell_type": "code",
   "execution_count": 35,
   "id": "a8a21730",
   "metadata": {
    "scrolled": true
   },
   "outputs": [
    {
     "name": "stdout",
     "output_type": "stream",
     "text": [
      "loss at last epoch: 0.6658939288224325\n"
     ]
    },
    {
     "data": {
      "text/plain": [
       "(0.549037198650473, 0)"
      ]
     },
     "execution_count": 35,
     "metadata": {},
     "output_type": "execute_result"
    },
    {
     "data": {
      "image/png": "[encoded data removed]",
      "text/plain": [
       "<Figure size 432x288 with 1 Axes>"
      ]
     },
     "metadata": {
      "needs_background": "light"
     },
     "output_type": "display_data"
    }
   ],
   "source": [
    "class LogisticRegression():\n",
    "    def __init__(self, x,y):\n",
    "        self.x = x\n",
    "        self.y = y\n",
    "    \n",
    "    \n",
    "    def sigmoid(self, z):\n",
    "#         print(1/(1+np.exp(-z)))\n",
    "        return 1/(1+np.exp(-z))\n",
    "    \n",
    "    def cross_entropy(self, x, y, weights ):\n",
    "        z = np.dot(x , weights)\n",
    "        return -np.sum(y*np.log(self.sigmoid(z)+0.001) + (1-y)*np.log(1-self.sigmoid(z)+.001) ) /len(x)\n",
    "             \n",
    "    \n",
    "    def train(self, alpha, epochs=25):\n",
    "        self.x = np.insert(self.x, 0, values=0, axis=1 )\n",
    "        weights = np.ones(self.x.shape[1])\n",
    "        \n",
    "        loss = []\n",
    "        N = len(self.x)\n",
    "        \n",
    "        for i in range(epochs):\n",
    "            z = np.dot(self.x , weights)\n",
    "            h = self.sigmoid(z)\n",
    "            \n",
    "            derivative = np.dot( self.x.T, h - self.y)\n",
    "            weights -= alpha*derivative/ N\n",
    "\n",
    "            loss.append(self.cross_entropy(self.x, self.y, weights))\n",
    "        \n",
    "        self.weights = weights\n",
    "        self.loss = loss\n",
    "        print(f'loss at last epoch: {loss[-1]}')\n",
    "        plt.plot(loss)\n",
    "    \n",
    "    def predict(self, x):\n",
    "        \n",
    "        x = np.insert(x, 0, 0, axis=0)\n",
    "        z = np.dot(x, self.weights)\n",
    "        class_prob = self.sigmoid(z)\n",
    "        label = 1 if class_prob>0.5 else 0\n",
    "#         print(class_prob)\n",
    "        return max(class_prob, 1-class_prob), label   \n",
    "    \n",
    "model = LogisticRegression(X, y)\n",
    "model.train(0.001, 175)\n",
    "model.predict([1,5,7,4,7,4,6,7,8,5])\n",
    "        \n",
    "        \n",
    "        \n",
    "        \n",
    "        \n",
    "        "
   ]
  },
  {
   "cell_type": "markdown",
   "id": "f91faba9",
   "metadata": {},
   "source": [
    "# Logistic Sklearn"
   ]
  },
  {
   "cell_type": "code",
   "execution_count": 41,
   "id": "7710e265",
   "metadata": {},
   "outputs": [
    {
     "name": "stdout",
     "output_type": "stream",
     "text": [
      "[[0.55008573 0.44991427]] [0]\n",
      "(178, 13)\n",
      "(178,)\n",
      "['class_0' 'class_1' 'class_2']\n",
      "(70, 10) (30, 10)\n",
      "(70,) (30,)\n",
      "              precision    recall  f1-score   support\n",
      "\n",
      "           0       0.36      0.27      0.31        15\n",
      "           1       0.42      0.53      0.47        15\n",
      "\n",
      "    accuracy                           0.40        30\n",
      "   macro avg       0.39      0.40      0.39        30\n",
      "weighted avg       0.39      0.40      0.39        30\n",
      "\n"
     ]
    }
   ],
   "source": [
    "from sklearn.linear_model import LogisticRegression\n",
    "from sklearn.metrics import log_loss, accuracy_score, classification_report\n",
    "from sklearn.model_selection import train_test_split\n",
    "\n",
    "\n",
    "LR = LogisticRegression(fit_intercept=True).fit(X, y)\n",
    "\n",
    "yhat = LR.predict(X)\n",
    "\n",
    "xnew = np.array([1,5,7,4,7,4,6,7,8,5]).reshape(-1, 10)\n",
    "\n",
    "print(LR.predict_proba(xnew), LR.predict(xnew))\n",
    "\n",
    "loss = log_loss(y, yhat)\n",
    "\n",
    "# wine\n",
    "from sklearn.datasets import load_wine\n",
    "\n",
    "data = load_wine()\n",
    "\n",
    "print(data.data.shape)\n",
    "print(data.target.shape)\n",
    "print(data.target_names)\n",
    "\n",
    "dataset = data.data\n",
    "label = data.target \n",
    "\n",
    "x_train, x_test, y_train, y_test = train_test_split(x,y, test_size=.3, random_state=3233)\n",
    "\n",
    "print(x_train.shape, x_test.shape)\n",
    "print(y_train.shape, y_test.shape)\n",
    "\n",
    "lr = LogisticRegression().fit(x_train, y_train)\n",
    "\n",
    "yhat = lr.predict(x_test)\n",
    "print(classification_report(y_test, yhat))\n",
    "\n"
   ]
  },
  {
   "cell_type": "markdown",
   "id": "e7606dac",
   "metadata": {},
   "source": [
    "# KNN"
   ]
  },
  {
   "cell_type": "code",
   "execution_count": 106,
   "id": "94adc59c",
   "metadata": {},
   "outputs": [
    {
     "name": "stdout",
     "output_type": "stream",
     "text": [
      "(100, 2)\n",
      "(100,)\n",
      "[0 1]\n",
      "[4.9 3. ] 0\n",
      "1\n",
      "[0.667 0.333]\n"
     ]
    }
   ],
   "source": [
    "import collections\n",
    "from sklearn import neighbors\n",
    "from sklearn.datasets import load_iris\n",
    "data = load_iris()\n",
    "\n",
    "x = data.data[:,:2]\n",
    "y = data.target\n",
    "\n",
    "x = x[data.target!=2]\n",
    "y = y[data.target!=2]\n",
    "\n",
    "\n",
    "print(x.shape)\n",
    "print(y.shape)\n",
    "print(np.unique(y))\n",
    "\n",
    "k = 3\n",
    "# using sklearn\n",
    "# nn = neighbors.KNeighborsClassifier(k).fit(x,y)\n",
    "# pred = np.array([100, 1.6]).reshape(-1,2)\n",
    "\n",
    "# print(nn.predict(pred))\n",
    "# print(nn.predict_proba(pred))\n",
    "\n",
    "\n",
    "\n",
    "class NearestNeighbor():\n",
    "    def __init__(self, k):\n",
    "        self.k = k\n",
    "        \n",
    "    def fit(self, x, y):\n",
    "        \"\"\"\n",
    "        just take in the values, and store\n",
    "        \"\"\"\n",
    "        self.x_train = x\n",
    "        self.y_train = y\n",
    "\n",
    "    def _distance(self, distance, x_test, datapoint ):\n",
    "        \n",
    "        if distance!='euclidean':\n",
    "            print(\"distance function not supported\")\n",
    "            exit()\n",
    "\n",
    "        return np.sqrt(np.sum(np.square(x_test-datapoint)))\n",
    "    \n",
    "    def predict(self, x_test, distance='euclidean', weights='uniform'):\n",
    "        \"\"\"\n",
    "        calculate distance between x_test and every single row in x_train, \n",
    "        do majority vote (or weighted vote) to assign to a class, return class\n",
    "        calculate probability of assigning to a class from softmax? maybe-let's see \n",
    "        \"\"\"\n",
    "        distances = []\n",
    "        l = np.unique(self.y_train)\n",
    "\n",
    "        #calculate all distances\n",
    "        for point in self.x_train: \n",
    "            distances.append(self._distance('euclidean', x_test, point))\n",
    "\n",
    "        #sorts and returns idxes\n",
    "        idxes = np.argsort(distances)[:self.k]\n",
    "        \n",
    "        labels = self.y_train[np.array(idxes)]\n",
    "        \n",
    "        self.label = np.argmax(labels)\n",
    "        cntr = collections.Counter(labels)\n",
    "        \n",
    "        self.label_proba = np.array([0.0]*len(l))\n",
    "\n",
    "        for idx in cntr: \n",
    "            self.label_proba[idx] = np.round(float(cntr[idx])/float(self.k), 3)\n",
    "        \n",
    "            \n",
    "        \n",
    "        \n",
    "print(x[1] , y[1])      \n",
    "knn = NearestNeighbor(3)\n",
    "knn.fit(x,y)\n",
    "knn.predict( np.array((2,0)), 'euclidean')\n",
    "print(knn.label)\n",
    "print(knn.label_proba)\n",
    "\n",
    "    \n",
    "    \n",
    "    \n",
    "    "
   ]
  },
  {
   "cell_type": "markdown",
   "id": "00266220",
   "metadata": {},
   "source": [
    "# Kmeans"
   ]
  },
  {
   "cell_type": "code",
   "execution_count": 188,
   "id": "ec81e9ba",
   "metadata": {
    "scrolled": true
   },
   "outputs": [
    {
     "name": "stdout",
     "output_type": "stream",
     "text": [
      "[[ 1.39319803  0.8087137 ]\n",
      " [-2.98365903  9.07540502]\n",
      " [-6.16169777  1.84983391]\n",
      " [-8.43040462  7.35333713]]\n",
      "<class 'numpy.ndarray'>\n",
      "[[ 1.39319803  0.8087137 ]\n",
      " [-2.98365903  9.07540502]\n",
      " [-6.16169777  1.84983391]\n",
      " [-8.43040462  7.35333713]]\n"
     ]
    },
    {
     "data": {
      "text/plain": [
       "<matplotlib.collections.PathCollection at 0x1567ded00>"
      ]
     },
     "execution_count": 188,
     "metadata": {},
     "output_type": "execute_result"
    },
    {
     "data": {
      "image/png": "[encoded data removed]",
      "text/plain": [
       "<Figure size 432x288 with 1 Axes>"
      ]
     },
     "metadata": {
      "needs_background": "light"
     },
     "output_type": "display_data"
    }
   ],
   "source": [
    "from sklearn.datasets import make_blobs\n",
    "from sklearn.cluster import KMeans\n",
    "\n",
    "\n",
    "X, y = make_blobs(n_samples=100, n_features=2, centers=4, random_state=3233)\n",
    "kmeans = KMeans(n_clusters=4, random_state=3233).fit(X,y)\n",
    "\n",
    "print(kmeans.cluster_centers_)\n",
    "\n",
    "print(type(kmeans.cluster_centers_))\n",
    "print(kmeans.cluster_centers_)\n",
    "plt.scatter(X[:, 0], X[:, 1], c=kmeans.labels_.astype(float))\n",
    "plt.scatter(kmeans.cluster_centers_[:, 0], kmeans.cluster_centers_[:, 1], marker='^', s=100, c='r')\n",
    "\n"
   ]
  },
  {
   "cell_type": "code",
   "execution_count": 299,
   "id": "3d70a237",
   "metadata": {},
   "outputs": [
    {
     "name": "stdout",
     "output_type": "stream",
     "text": [
      "sse:  207.39267386567653\n",
      "[307.1924105147153, 223.49956892039748, 208.31016698338195, 207.39267386567653, 207.39267386567653]\n",
      "optimal sse:  119.03448860403975\n",
      "optimal centers {0: array([1.39319803, 0.8087137 ]), 1: array([-2.98365903,  9.07540502]), 2: array([-6.16169777,  1.84983391]), 3: array([-8.43040462,  7.35333713])}\n",
      "predicted cluster:  0\n"
     ]
    },
    {
     "data": {
      "text/plain": [
       "<matplotlib.collections.PathCollection at 0x159d6c610>"
      ]
     },
     "execution_count": 299,
     "metadata": {},
     "output_type": "execute_result"
    },
    {
     "data": {
      "image/png": "[encoded data removed]",
      "text/plain": [
       "<Figure size 432x288 with 1 Axes>"
      ]
     },
     "metadata": {
      "needs_background": "light"
     },
     "output_type": "display_data"
    }
   ],
   "source": [
    "# Kmeans from scratch \n",
    "\n",
    "import random \n",
    "\n",
    "class Kmeans():\n",
    "    def __init__(self, n_centers, n_iter, tol=0.001):\n",
    "        self.k = n_centers\n",
    "        self.n_iter = n_iter\n",
    "        self.tolerance = tol\n",
    "    \n",
    "    def fit(self, X):\n",
    "        \"\"\"\n",
    "        1- pick k centers randomly\n",
    "        2- in a loop for n_iters do:\n",
    "            a: find distance of all values from the k centers and assign them to their centers\n",
    "            b: calculate mean of values in each k centers as the new set of centers \n",
    "            c: calculate sum of difference of all values from their centroids and save to list\n",
    "        \"\"\"\n",
    "        self.centeroids = {}\n",
    "        for i in range(self.k):\n",
    "            self.centeroids[i] = random.choice(X)\n",
    "        \n",
    "        self.iter_sse=[]\n",
    "        for it in range(self.n_iter):\n",
    "            \n",
    "            self.classification = {}\n",
    "            \n",
    "            for i in range(self.k): \n",
    "                self.classification[i] = []\n",
    "               \n",
    "            for point in X: \n",
    "                curr_distance = [np.linalg.norm(point- self.centeroids[c]) for c in self.centeroids]\n",
    "                \n",
    "                p_class = curr_distance.index(min(curr_distance))\n",
    "                self.classification[p_class].append(point)\n",
    "            \n",
    "            old_cluster = self.centeroids\n",
    "            \n",
    "            for i in self.classification:\n",
    "                self.centeroids[i] = np.average(self.classification[i], axis=0)\n",
    "            \n",
    "            self.iter_sse.append(self.sse_)\n",
    "\n",
    "            is_optimized=False\n",
    "            \n",
    "            if it >=2 and  (self.iter_sse[-2] - self.iter_sse[-1]) < self.tolerance: \n",
    "#                 print(\"breaking point\", it, (self.iter_sse[-1] - self.iter_sse[-2]))\n",
    "                is_optimized = True\n",
    "            \n",
    "            if  is_optimized: \n",
    "                break\n",
    "            \n",
    "            \n",
    "#             for \n",
    "        \n",
    "   \n",
    "    @property\n",
    "    def sse_(self):\n",
    "        sse = []\n",
    "        for i in range(self.k):\n",
    "            center = self.centeroids[i]\n",
    "            sse_i = []\n",
    "            for point in self.classification[i]:\n",
    "                sse_i.append(np.linalg.norm(point-center))\n",
    "            \n",
    "            sse.append(sum(sse_i))\n",
    "        return sum(sse)\n",
    "            \n",
    "            \n",
    "    \n",
    "    def predict(self, x_test):\n",
    "        \"\"\"\n",
    "        calculate distance to each centroids and assign \n",
    "        the cluster # associated with closest centroid\n",
    "        \"\"\"\n",
    "        min_sse = float('inf')\n",
    "        cluster_assignment = self.k + 1\n",
    "        for i in range(self.k): \n",
    "            curr_sse = np.linalg.norm(x_test - self.centeroids[i])\n",
    "            if curr_sse < min_sse: \n",
    "                min_sse = curr_sse\n",
    "                cluster_assignment = i\n",
    "        return cluster_assignment\n",
    "            \n",
    "        \n",
    "\n",
    "    \n",
    "km = Kmeans(n_centers=4, n_iter=20 )\n",
    "km.fit(X)\n",
    "\n",
    "# print(km.centers)\n",
    "print(\"sse: \",  km.sse_)\n",
    "print(km.iter_sse)\n",
    "c = np.row_stack([km.centeroids[i] for i in km.centeroids])\n",
    "\n",
    "num_runs = 10 \n",
    "\n",
    "min_sse = float('inf')\n",
    "opt_centeroids = []\n",
    "opt_classifications = []\n",
    "\n",
    "for i in range(num_runs):\n",
    "    km = Kmeans(n_centers=4, n_iter=20 )\n",
    "    km.fit(X)\n",
    "    if km.sse_ < min_sse: \n",
    "        model = km\n",
    "        min_sse = km.sse_\n",
    "        opt_centeroids = km.centeroids\n",
    "        opt_classifications = km.classification\n",
    "        \n",
    "print(\"optimal sse: \",  min_sse)\n",
    "print(\"optimal centers\", opt_centeroids)\n",
    "\n",
    "\n",
    "c = np.row_stack([opt_centeroids[i] for i in opt_centeroids])\n",
    "\n",
    "\n",
    "print(\"predicted cluster: \", model.predict([2,1]))\n",
    "\n",
    "\n",
    "plt.scatter(X[:,0], X[:, 1])\n",
    "plt.scatter(c[:, 0], c[:, 1], s=100)\n",
    "\n",
    "\n"
   ]
  }
 ],
 "metadata": {
  "kernelspec": {
   "display_name": "Python [conda env:mothership] *",
   "language": "python",
   "name": "conda-env-mothership-py"
  },
  "language_info": {
   "codemirror_mode": {
    "name": "ipython",
    "version": 3
   },
   "file_extension": ".py",
   "mimetype": "text/x-python",
   "name": "python",
   "nbconvert_exporter": "python",
   "pygments_lexer": "ipython3",
   "version": "3.8.8"
  }
 },
 "nbformat": 4,
 "nbformat_minor": 5
}
