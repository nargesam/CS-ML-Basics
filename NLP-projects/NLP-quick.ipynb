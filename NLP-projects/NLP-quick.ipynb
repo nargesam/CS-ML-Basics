{
 "cells": [
  {
   "cell_type": "code",
   "execution_count": 95,
   "id": "5fa49ecb",
   "metadata": {},
   "outputs": [],
   "source": [
    "import pandas as pd\n",
    "import numpy as np \n",
    "import string\n",
    "from scipy import sparse\n",
    "\n",
    "\n",
    "from sklearn import preprocessing\n",
    "from sklearn.feature_extraction import text \n",
    "from sklearn.linear_model import LogisticRegression\n",
    "from sklearn.model_selection import train_test_split\n",
    "from sklearn.metrics import classification_report\n",
    "\n"
   ]
  },
  {
   "cell_type": "code",
   "execution_count": 76,
   "id": "6dd60402",
   "metadata": {
    "scrolled": true
   },
   "outputs": [
    {
     "name": "stdout",
     "output_type": "stream",
     "text": [
      "5571 0    4824\n",
      "1     747\n",
      "Name: target, dtype: int64\n"
     ]
    },
    {
     "data": {
      "text/html": [
       "<div>\n",
       "<style scoped>\n",
       "    .dataframe tbody tr th:only-of-type {\n",
       "        vertical-align: middle;\n",
       "    }\n",
       "\n",
       "    .dataframe tbody tr th {\n",
       "        vertical-align: top;\n",
       "    }\n",
       "\n",
       "    .dataframe thead th {\n",
       "        text-align: right;\n",
       "    }\n",
       "</style>\n",
       "<table border=\"1\" class=\"dataframe\">\n",
       "  <thead>\n",
       "    <tr style=\"text-align: right;\">\n",
       "      <th></th>\n",
       "      <th>sms</th>\n",
       "      <th>target</th>\n",
       "    </tr>\n",
       "  </thead>\n",
       "  <tbody>\n",
       "    <tr>\n",
       "      <th>0</th>\n",
       "      <td>Ok lar... Joking wif u oni...</td>\n",
       "      <td>0</td>\n",
       "    </tr>\n",
       "    <tr>\n",
       "      <th>1</th>\n",
       "      <td>Free entry in 2 a wkly comp to win FA Cup fina...</td>\n",
       "      <td>1</td>\n",
       "    </tr>\n",
       "    <tr>\n",
       "      <th>2</th>\n",
       "      <td>U dun say so early hor... U c already then say...</td>\n",
       "      <td>0</td>\n",
       "    </tr>\n",
       "    <tr>\n",
       "      <th>3</th>\n",
       "      <td>Nah I don't think he goes to usf, he lives aro...</td>\n",
       "      <td>0</td>\n",
       "    </tr>\n",
       "    <tr>\n",
       "      <th>4</th>\n",
       "      <td>FreeMsg Hey there darling it's been 3 week's n...</td>\n",
       "      <td>1</td>\n",
       "    </tr>\n",
       "  </tbody>\n",
       "</table>\n",
       "</div>"
      ],
      "text/plain": [
       "                                                 sms  target\n",
       "0                      Ok lar... Joking wif u oni...       0\n",
       "1  Free entry in 2 a wkly comp to win FA Cup fina...       1\n",
       "2  U dun say so early hor... U c already then say...       0\n",
       "3  Nah I don't think he goes to usf, he lives aro...       0\n",
       "4  FreeMsg Hey there darling it's been 3 week's n...       1"
      ]
     },
     "execution_count": 76,
     "metadata": {},
     "output_type": "execute_result"
    }
   ],
   "source": [
    "data = pd.read_csv('./data/smsspamcollection/SMSSpamCollection.txt', sep='\\t')\n",
    "data.columns=['label', 'sms']\n",
    "\n",
    "le = preprocessing.LabelEncoder()\n",
    "data['target'] = le.fit_transform(data['label'])\n",
    "\n",
    "data = data[['sms', 'target']]\n",
    "\n",
    "chars = set(string.punctuation)\n",
    "# print(chars)\n",
    "data.sms = data.sms.apply(lambda x: ''.join(char for char in x if x not in chars ))\n",
    "\n",
    "print(len(data), data.target.value_counts())\n",
    "data.head()"
   ]
  },
  {
   "cell_type": "code",
   "execution_count": 107,
   "id": "afd09297",
   "metadata": {},
   "outputs": [],
   "source": [
    "x_train, x_test, y_train, y_test = train_test_split(data.sms, data.target, test_size=.2)\n",
    "\n",
    "word_vectorizer = text.TfidfVectorizer(max_features=20000, stop_words='english', analyzer='word', lowercase=True,\n",
    "                                  ngram_range=(1,3) ,dtype=np.float32)\n",
    "char_vectorizer = text.TfidfVectorizer(max_features=40000, stop_words='english', analyzer='char', lowercase=True,\n",
    "                                  ngram_range=(3,6) ,dtype=np.float32)\n",
    "\n",
    "\n",
    "w_x_train = word_vectorizer.fit_transform(x_train)\n",
    "c_x_train = char_vectorizer.fit_transform(x_train)\n",
    "\n",
    "w_x_test = word_vectorizer.transform(x_test)\n",
    "c_x_test = char_vectorizer.transform(x_test)\n",
    "\n",
    "\n",
    "\n",
    "# word_vectorizer.inverse_transform(w_x_train[0])\n",
    "# char_vectorizer.inverse_transform(c_x_train[0])\n",
    "\n"
   ]
  },
  {
   "cell_type": "code",
   "execution_count": 121,
   "id": "50c1a438",
   "metadata": {
    "scrolled": true
   },
   "outputs": [
    {
     "name": "stdout",
     "output_type": "stream",
     "text": [
      "(4456, 20000) (4456, 40000) (2,)\n",
      "              precision    recall  f1-score   support\n",
      "\n",
      "           0       0.99      1.00      0.99       956\n",
      "           1       0.98      0.94      0.96       159\n",
      "\n",
      "    accuracy                           0.99      1115\n",
      "   macro avg       0.99      0.97      0.98      1115\n",
      "weighted avg       0.99      0.99      0.99      1115\n",
      "\n"
     ]
    }
   ],
   "source": [
    "# train_vec = sparse.hstack([w_x_train, c_x_train])\n",
    "# test_vec = sparse.hstack([w_x_test, c_x_test])\n",
    "\n",
    "train_vec = np.hstack((w_x_train, c_x_train))\n",
    "test_vec = np.hstack((w_x_test, c_x_test))\n",
    "\n",
    "print(w_x_train.shape,c_x_train.shape, train_vec.shape)\n",
    "\n",
    "\n",
    "model = LogisticRegression(C=2, class_weight='balanced')\n",
    "model.fit(c_x_train, y_train)\n",
    "\n",
    "yhat = model.predict(c_x_test)\n",
    "\n",
    "print(classification_report(y_test, yhat))"
   ]
  },
  {
   "cell_type": "code",
   "execution_count": 202,
   "id": "373f406e",
   "metadata": {
    "scrolled": true
   },
   "outputs": [
    {
     "name": "stdout",
     "output_type": "stream",
     "text": [
      "Model: \"sequential_27\"\n",
      "_________________________________________________________________\n",
      "Layer (type)                 Output Shape              Param #   \n",
      "=================================================================\n",
      "embedding_25 (Embedding)     (None, 100, 100)          2000000   \n",
      "_________________________________________________________________\n",
      "flatten_16 (Flatten)         (None, 10000)             0         \n",
      "_________________________________________________________________\n",
      "dense_32 (Dense)             (None, 32)                320032    \n",
      "_________________________________________________________________\n",
      "dense_33 (Dense)             (None, 1)                 33        \n",
      "=================================================================\n",
      "Total params: 2,320,065\n",
      "Trainable params: 2,320,065\n",
      "Non-trainable params: 0\n",
      "_________________________________________________________________\n",
      "Epoch 1/6\n",
      "140/140 [==============================] - 3s 15ms/step - loss: 0.3097 - acc: 0.8654\n",
      "Epoch 2/6\n",
      "140/140 [==============================] - 2s 18ms/step - loss: 0.1078 - acc: 0.9877\n",
      "Epoch 3/6\n",
      "140/140 [==============================] - 2s 16ms/step - loss: 0.0864 - acc: 0.9959\n",
      "Epoch 4/6\n",
      "140/140 [==============================] - 2s 16ms/step - loss: 0.0731 - acc: 0.9978\n",
      "Epoch 5/6\n",
      "140/140 [==============================] - 2s 16ms/step - loss: 0.0670 - acc: 0.9994\n",
      "Epoch 6/6\n",
      "140/140 [==============================] - 2s 15ms/step - loss: 0.0634 - acc: 0.9992\n",
      "              precision    recall  f1-score   support\n",
      "\n",
      "           0       0.99      1.00      0.99       976\n",
      "           1       1.00      0.90      0.95       139\n",
      "\n",
      "    accuracy                           0.99      1115\n",
      "   macro avg       0.99      0.95      0.97      1115\n",
      "weighted avg       0.99      0.99      0.99      1115\n",
      "\n"
     ]
    },
    {
     "data": {
      "text/plain": [
       "(array([982.,   6.,   2., 125.]),\n",
       " array([1.3923904e-08, 1.6292207e-01, 3.2584411e-01, 4.8876616e-01,\n",
       "        6.5168822e-01], dtype=float32),\n",
       " <BarContainer object of 4 artists>)"
      ]
     },
     "execution_count": 202,
     "metadata": {},
     "output_type": "execute_result"
    },
    {
     "data": {
      "image/png": "[encoded data removed]",
      "text/plain": [
       "<Figure size 432x288 with 1 Axes>"
      ]
     },
     "metadata": {
      "needs_background": "light"
     },
     "output_type": "display_data"
    }
   ],
   "source": [
    "from keras import preprocessing \n",
    "from keras.models import Sequential\n",
    "from keras.layers import Embedding,Flatten , Dense, LSTM\n",
    "import matplotlib.pyplot as plt\n",
    "\n",
    "tokenizer = preprocessing.text.Tokenizer(num_words=20000, oov_token =  '<OOV>')\n",
    "tokenizer.fit_on_texts(data.sms)\n",
    "sequences = tokenizer.texts_to_sequences(data.sms)\n",
    "\n",
    "# lens = plt.hist([len(x) for x in sequences])\n",
    "\n",
    "pad_sequences = preprocessing.sequence.pad_sequences(sequences, maxlen=100, padding='post')\n",
    "\n",
    "\n",
    "x_train, x_test, y_train, y_test = train_test_split(pad_sequences, data.target, test_size=.2)\n",
    "\n",
    "\n",
    "model = Sequential()\n",
    "model.add(Embedding(20000, 100, input_length=100))\n",
    "model.add(Flatten())\n",
    "model.add(Dense(32,activation='relu'))\n",
    "model.add(Dense(1, activation='sigmoid'))\n",
    "model.compile(loss='binary_crossentropy', optimizer='adam', metrics=['acc'])\n",
    "\n",
    "model.summary()\n",
    "\n",
    "\n",
    "model.fit(x_train, y_train, epochs=6)\n",
    "\n",
    "\n",
    "prob = model.predict(x_test)\n",
    "yhat = np.where(prob > 0.5, 1, 0)\n",
    "\n",
    "\n",
    "print(classification_report(y_test, yhat))\n",
    "\n",
    "plt.hist(prob, bins=4)"
   ]
  },
  {
   "cell_type": "code",
   "execution_count": 201,
   "id": "0505244b",
   "metadata": {},
   "outputs": [
    {
     "name": "stdout",
     "output_type": "stream",
     "text": [
      "[0 1]\n"
     ]
    },
    {
     "data": {
      "text/plain": [
       "[<matplotlib.lines.Line2D at 0x1506333d0>]"
      ]
     },
     "execution_count": 201,
     "metadata": {},
     "output_type": "execute_result"
    },
    {
     "data": {
      "image/png": "[encoded data removed]",
      "text/plain": [
       "<Figure size 432x288 with 1 Axes>"
      ]
     },
     "metadata": {
      "needs_background": "light"
     },
     "output_type": "display_data"
    }
   ],
   "source": [
    "yhat = np.where(prob > 0.5, 1, 0)\n",
    "\n",
    "print(np.unique(yhat))\n",
    "plt.plot(prob)\n",
    "# print([1  for x in prob if x>0.5 else ])"
   ]
  }
 ],
 "metadata": {
  "kernelspec": {
   "display_name": "Python [conda env:mothership] *",
   "language": "python",
   "name": "conda-env-mothership-py"
  },
  "language_info": {
   "codemirror_mode": {
    "name": "ipython",
    "version": 3
   },
   "file_extension": ".py",
   "mimetype": "text/x-python",
   "name": "python",
   "nbconvert_exporter": "python",
   "pygments_lexer": "ipython3",
   "version": "3.8.8"
  }
 },
 "nbformat": 4,
 "nbformat_minor": 5
}
