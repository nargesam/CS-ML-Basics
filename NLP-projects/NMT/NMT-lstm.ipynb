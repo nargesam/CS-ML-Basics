{
 "cells": [
  {
   "cell_type": "code",
   "execution_count": 11,
   "id": "955617a2",
   "metadata": {},
   "outputs": [],
   "source": [
    "import keras\n",
    "import pandas as pd \n",
    "import numpy as np \n",
    "import string"
   ]
  },
  {
   "cell_type": "code",
   "execution_count": 37,
   "id": "eeb6c438",
   "metadata": {
    "scrolled": true
   },
   "outputs": [
    {
     "name": "stdout",
     "output_type": "stream",
     "text": [
      "2559\n"
     ]
    },
    {
     "data": {
      "text/html": [
       "<div>\n",
       "<style scoped>\n",
       "    .dataframe tbody tr th:only-of-type {\n",
       "        vertical-align: middle;\n",
       "    }\n",
       "\n",
       "    .dataframe tbody tr th {\n",
       "        vertical-align: top;\n",
       "    }\n",
       "\n",
       "    .dataframe thead th {\n",
       "        text-align: right;\n",
       "    }\n",
       "</style>\n",
       "<table border=\"1\" class=\"dataframe\">\n",
       "  <thead>\n",
       "    <tr style=\"text-align: right;\">\n",
       "      <th></th>\n",
       "      <th>english</th>\n",
       "      <th>farsi</th>\n",
       "    </tr>\n",
       "  </thead>\n",
       "  <tbody>\n",
       "    <tr>\n",
       "      <th>0</th>\n",
       "      <td>who</td>\n",
       "      <td>[CLS] چه کسی [SEP]</td>\n",
       "    </tr>\n",
       "    <tr>\n",
       "      <th>1</th>\n",
       "      <td>go on</td>\n",
       "      <td>[CLS] ادامه بده  ادامه دادن  [SEP]</td>\n",
       "    </tr>\n",
       "    <tr>\n",
       "      <th>2</th>\n",
       "      <td>smile</td>\n",
       "      <td>[CLS] لبخند بزن [SEP]</td>\n",
       "    </tr>\n",
       "    <tr>\n",
       "      <th>3</th>\n",
       "      <td>attack</td>\n",
       "      <td>[CLS] حمله [SEP]</td>\n",
       "    </tr>\n",
       "    <tr>\n",
       "      <th>4</th>\n",
       "      <td>got it</td>\n",
       "      <td>[CLS] گرفتم [SEP]</td>\n",
       "    </tr>\n",
       "  </tbody>\n",
       "</table>\n",
       "</div>"
      ],
      "text/plain": [
       "  english                               farsi\n",
       "0     who                  [CLS] چه کسی [SEP]\n",
       "1   go on  [CLS] ادامه بده  ادامه دادن  [SEP]\n",
       "2   smile               [CLS] لبخند بزن [SEP]\n",
       "3  attack                    [CLS] حمله [SEP]\n",
       "4  got it                   [CLS] گرفتم [SEP]"
      ]
     },
     "execution_count": 37,
     "metadata": {},
     "output_type": "execute_result"
    }
   ],
   "source": [
    "data = pd.read_csv('./pes.txt', delimiter='\\t', header=None)\n",
    "data.columns=['english', 'farsi', 'comment']\n",
    "\n",
    "data = data[['english', 'farsi']]\n",
    "# print(data.farsi)\n",
    "\n",
    "def clean_data(data):\n",
    "    data.english = data.english.apply(lambda x: x.lower())\n",
    "    data.farsi = data.farsi.apply(lambda x: x.lower())\n",
    "\n",
    "    special_characters= set(string.punctuation)\n",
    "    special_characters.add('؟')\n",
    "    data.english = data.english.apply(lambda x: ''.join(char for char in x if char not in special_characters ))\n",
    "    data.farsi = data.farsi.apply(lambda x: ''.join(char for char in x if char not in special_characters ))\n",
    "    \n",
    "    return data\n",
    "\n",
    "\n",
    "\n",
    "def add_start_end_token(data):\n",
    "    data.farsi = data.farsi.apply(lambda x: '[CLS] ' + x + ' [SEP]')\n",
    "    return data\n",
    "\n",
    "data = clean_data(data)\n",
    "data = add_start_end_token(data)\n",
    "\n",
    "print(len(data))\n",
    "data.head(5)\n",
    "    \n",
    "    "
   ]
  },
  {
   "cell_type": "code",
   "execution_count": 39,
   "id": "80d9aae8",
   "metadata": {},
   "outputs": [
    {
     "name": "stdout",
     "output_type": "stream",
     "text": [
      " number of words in farsi dictionary: 3943\n",
      " number of words in english dictionary: 2685\n"
     ]
    }
   ],
   "source": [
    "# create dict from both lists \n",
    "\n",
    "english_idx_dict = {}\n",
    "idx_english_dict = {}\n",
    "english_vocab = set()\n",
    "\n",
    "english = list(data.english)\n",
    "i = 0\n",
    "for sent in english: \n",
    "    for word in sent.split(): \n",
    "        if word not in english_vocab: \n",
    "            english_vocab.add(word)\n",
    "            i+= 1\n",
    "            english_idx_dict[word] = i\n",
    "            idx_english_dict[i] = word\n",
    "\n",
    "\n",
    "farsi_idx_dict = {}\n",
    "idx_farsi_dict = {}\n",
    "farsi_vocab = set()\n",
    "\n",
    "farsi = list(data.farsi)\n",
    "i = 0\n",
    "for sent in farsi: \n",
    "    for word in sent.split(): \n",
    "        if word not in farsi_vocab: \n",
    "            farsi_vocab.add(word)\n",
    "            i+= 1\n",
    "            farsi_idx_dict[word] = i\n",
    "            idx_farsi_dict[i] = word\n",
    "\n",
    "        \n",
    "print(f\" number of words in farsi dictionary: {len(farsi_vocab)}\")          \n",
    "print(f\" number of words in english dictionary: {len(english_vocab)}\")          \n",
    "# farsi_idx_dict\n",
    "\n"
   ]
  },
  {
   "cell_type": "code",
   "execution_count": 45,
   "id": "55217568",
   "metadata": {},
   "outputs": [
    {
     "name": "stdout",
     "output_type": "stream",
     "text": [
      "max len for englisg phrases: 135 chars\n",
      "max len for farsi phrases: 158 chars\n"
     ]
    }
   ],
   "source": [
    "max_english_len = data.english.str.len().max()\n",
    "max_farsi_len = data.farsi.str.len().max()\n",
    "\n",
    "print(f'max len for englisg phrases: {max_english_len} chars')\n",
    "print(f'max len for farsi phrases: {max_farsi_len} chars')"
   ]
  }
 ],
 "metadata": {
  "kernelspec": {
   "display_name": "Python [conda env:mothership] *",
   "language": "python",
   "name": "conda-env-mothership-py"
  },
  "language_info": {
   "codemirror_mode": {
    "name": "ipython",
    "version": 3
   },
   "file_extension": ".py",
   "mimetype": "text/x-python",
   "name": "python",
   "nbconvert_exporter": "python",
   "pygments_lexer": "ipython3",
   "version": "3.8.8"
  }
 },
 "nbformat": 4,
 "nbformat_minor": 5
}
