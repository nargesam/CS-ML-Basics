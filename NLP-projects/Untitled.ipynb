{
 "cells": [
  {
   "cell_type": "code",
   "execution_count": 34,
   "id": "fe24daa4",
   "metadata": {},
   "outputs": [
    {
     "name": "stdout",
     "output_type": "stream",
     "text": [
      "27\n"
     ]
    }
   ],
   "source": [
    "\"\"\"\n",
    "painter --> cost of painting --> \n",
    "\n",
    "rewards = [20, 20]\n",
    "costs = [[17,2,17], [16,1,5]]\n",
    "           3 + 19\n",
    "            18 + 15\n",
    "            3 + 19 \n",
    "\n",
    "\n",
    "\n",
    "rewards = [30, 10, 20]\n",
    "costs = [[10, 11, 21], [17,12,17], [16,1,15]]\n",
    "         i = 0\n",
    "        max_br1 = rewards[i] - costs[i][0] + max( max_br3, max_br2 ) = 20\n",
    "        max_br2 = rewards[i] - costs[i][1] + max( max_br3, max_br1 ) = 1\n",
    "        max_br3 = rewards[i] - costs[i][2] + max(max_br1, max_br2 ) = -1\n",
    "        \n",
    "        i = 1 \n",
    "         \n",
    "         \n",
    "         br1, br2, br3\n",
    "\n",
    "at every i: \n",
    "min_br3 = cost[i][br3] + max( rewards[i-1] - cost[i-1][br1],  rewards[i-1] - cost[i-1][br2])\n",
    "min_br1 = cost[i][br1] + max( rewards[i-1] - cost[i-1][br2],  rewards[i-1] - cost[i-1][br3])\n",
    "min_br2 = cost[i][br2] + max( rewards[i-1] - cost[i-1][br1],  rewards[i-1] - cost[i-1][br3])\n",
    "\n",
    "min_val = max(min_val ,min_br3, min_br2, min_br1)\n",
    "\n",
    "\n",
    "\"\"\"\n",
    "\n",
    "def paintBrands(rewards, costs): \n",
    "    max_br1, max_br2, max_br3 = 0, 0 , 0 \n",
    "    max_rew = float('-inf')\n",
    "    total_reward = 0\n",
    "    \n",
    "    for i in range(len(rewards)): \n",
    "        \n",
    "        curr_reward = rewards[i] - min(costs[i][0], costs[i][1], costs[i][2])\n",
    "        if curr_reward < 0 : \n",
    "            skip = True\n",
    "        if not skip:\n",
    "            max_br1, max_br2, max_br3 = rewards[i] - costs[i][0] + max( max_br3, max_br2 ), rewards[i] - costs[i][1] + max( max_br3, max_br1 ), rewards[i] - costs[i][2] + max(max_br1, max_br2 )\n",
    "            \n",
    "        \n",
    "        if curr_reward>0:\n",
    "            total_reward += curr_reward\n",
    "        \n",
    "    return total_reward\n",
    "#     return max(max_br1 ,max_br2, max_br3)\n",
    "\n",
    "\n",
    "rewards = [20, 20]\n",
    "costs = [[17,2,17], [16,1,5]]\n",
    "\n",
    "\n",
    "rewards = [30, 10, 20]\n",
    "costs = [[10, 11, 21], [17,12,17], [16,1,15]]\n",
    "\n",
    "\n",
    "rewards = [10, 20]\n",
    "costs = [[17,2,17], [16,1,15]]\n",
    "\n",
    "print(paintBrands(rewards, costs))\n",
    "\n",
    "\n",
    "\n",
    "\n",
    "\n",
    "\n",
    "\n"
   ]
  },
  {
   "cell_type": "code",
   "execution_count": null,
   "id": "50cf581f",
   "metadata": {},
   "outputs": [],
   "source": []
  },
  {
   "cell_type": "code",
   "execution_count": null,
   "id": "8e95b72a",
   "metadata": {},
   "outputs": [],
   "source": []
  },
  {
   "cell_type": "code",
   "execution_count": 24,
   "id": "2860f8d2",
   "metadata": {},
   "outputs": [
    {
     "name": "stdout",
     "output_type": "stream",
     "text": [
      "defaultdict(<class 'list'>, {0: [(0, 1), (1, 2), (1, 3)], 1: [(10, 9), (11, 8), (9, 7)]})\n"
     ]
    }
   ],
   "source": [
    "\"\"\"\n",
    "Input: [(0, 1), (1, 2), (1, 3), (10, 9), (11, 8), (9, 7)], \n",
    "num_k=2  list of two-dim tuples, num of clusters\n",
    "\n",
    "Return \n",
    "\n",
    "Output: [[(0, 1), (1, 2), (1, 3)], [(10, 9), (11, 8), (9, 7)]]\n",
    "\n",
    "\"\"\"\n",
    "\n",
    "\n",
    "import numpy as np \n",
    "import random \n",
    "import collections\n",
    "\n",
    "class Kmeans():\n",
    "    def __init__(self, k, x):\n",
    "        self.k = k\n",
    "        self.x = x\n",
    "    \n",
    "    def _distance(self, point, center): \n",
    "#         sqrt( (p1-c1)**2 + (p2-c2)**2\n",
    "        \n",
    "        return np.sqrt(  (center[0] - point[0])**2 +  (center[1] - point[1])**2 )\n",
    "    \n",
    "    \n",
    "    def cluster(self, num_iter=100):\n",
    "#         randomly assing k centroids \n",
    "#         go for 100 times\n",
    "#             calculate distance from the centers to each x_i\n",
    "#         assign each x_i to closest centers \n",
    "        \n",
    "        N = len(self.x)\n",
    "        centers = self.x[:self.k]\n",
    "        \n",
    "     \n",
    "        for _ in range(num_iter):\n",
    "            \n",
    "            clusters = collections.defaultdict(list)\n",
    "            for point in self.x: \n",
    "\n",
    "                curr_dist = []\n",
    "                for center in centers: \n",
    "\n",
    "                    distance = self._distance(point, center)\n",
    "                    curr_dist.append(distance)\n",
    "\n",
    "                idx = curr_dist.index(min(curr_dist))\n",
    "                clusters[idx].append(point)\n",
    "\n",
    "            new_cnter = []\n",
    "            for i in range(self.k): \n",
    "                new_cnter.append(np.mean(np.array(clusters[i]), axis=0))\n",
    "            centers = new_cnter\n",
    "\n",
    "        print(clusters)\n",
    "        \n",
    "        \n",
    "            \n",
    "\n",
    "\n",
    "x = [(0, 1), (1, 2), (1, 3), (10, 9), (11, 8), (9, 7)]\n",
    "k=2\n",
    "kmeans = Kmeans(k, x)\n",
    "kmeans.cluster()\n",
    "\n"
   ]
  },
  {
   "cell_type": "code",
   "execution_count": 21,
   "id": "694fe99f",
   "metadata": {},
   "outputs": [
    {
     "data": {
      "text/plain": [
       "array([1. , 2.5])"
      ]
     },
     "execution_count": 21,
     "metadata": {},
     "output_type": "execute_result"
    }
   ],
   "source": [
    "import numpy as np \n",
    "# print(np.linalg(np.array([1,2])- np.array([1,2])))\n",
    "\n",
    "\n",
    "np.mean(np.array([(1, 2), (1, 3)]), axis = 0)"
   ]
  },
  {
   "cell_type": "code",
   "execution_count": null,
   "id": "70b96801",
   "metadata": {},
   "outputs": [],
   "source": [
    "\n",
    "\n",
    "\n",
    "\n",
    "\n"
   ]
  }
 ],
 "metadata": {
  "kernelspec": {
   "display_name": "Python [conda env:mothership] *",
   "language": "python",
   "name": "conda-env-mothership-py"
  },
  "language_info": {
   "codemirror_mode": {
    "name": "ipython",
    "version": 3
   },
   "file_extension": ".py",
   "mimetype": "text/x-python",
   "name": "python",
   "nbconvert_exporter": "python",
   "pygments_lexer": "ipython3",
   "version": "3.8.8"
  }
 },
 "nbformat": 4,
 "nbformat_minor": 5
}
