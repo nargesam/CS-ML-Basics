{
 "cells": [
  {
   "cell_type": "code",
   "execution_count": 1,
   "metadata": {},
   "outputs": [
    {
     "ename": "ImportError",
     "evalue": "cannot import name 'KNNImputer'",
     "output_type": "error",
     "traceback": [
      "\u001b[0;31m---------------------------------------------------------------------------\u001b[0m",
      "\u001b[0;31mImportError\u001b[0m                               Traceback (most recent call last)",
      "\u001b[0;32m<ipython-input-1-3d64c2c41bb9>\u001b[0m in \u001b[0;36m<module>\u001b[0;34m\u001b[0m\n\u001b[1;32m      2\u001b[0m \u001b[0;32mfrom\u001b[0m \u001b[0msklearn\u001b[0m\u001b[0;34m.\u001b[0m\u001b[0mneighbors\u001b[0m \u001b[0;32mimport\u001b[0m \u001b[0mKNeighborsClassifier\u001b[0m\u001b[0;34m\u001b[0m\u001b[0m\n\u001b[1;32m      3\u001b[0m \u001b[0;32mfrom\u001b[0m \u001b[0msklearn\u001b[0m\u001b[0;34m.\u001b[0m\u001b[0mlinear_model\u001b[0m \u001b[0;32mimport\u001b[0m \u001b[0mLinearRegression\u001b[0m\u001b[0;34m\u001b[0m\u001b[0m\n\u001b[0;32m----> 4\u001b[0;31m \u001b[0;32mfrom\u001b[0m \u001b[0msklearn\u001b[0m\u001b[0;34m.\u001b[0m\u001b[0mimpute\u001b[0m \u001b[0;32mimport\u001b[0m  \u001b[0mKNNImputer\u001b[0m\u001b[0;34m\u001b[0m\u001b[0m\n\u001b[0m\u001b[1;32m      5\u001b[0m \u001b[0;34m\u001b[0m\u001b[0m\n",
      "\u001b[0;31mImportError\u001b[0m: cannot import name 'KNNImputer'"
     ]
    }
   ],
   "source": [
    "import pandas as pd \n",
    "from sklearn.neighbors import KNeighborsClassifier\n",
    "from sklearn.linear_model import LinearRegression\n",
    "from sklearn.impute import  KNNImputer\n",
    "\n",
    "\n"
   ]
  },
  {
   "cell_type": "code",
   "execution_count": 3,
   "metadata": {},
   "outputs": [
    {
     "data": {
      "text/plain": [
       "'0.21.3'"
      ]
     },
     "execution_count": 3,
     "metadata": {},
     "output_type": "execute_result"
    }
   ],
   "source": [
    "import sklearn \n",
    "sklearn.__version__"
   ]
  },
  {
   "cell_type": "code",
   "execution_count": null,
   "metadata": {},
   "outputs": [],
   "source": []
  },
  {
   "cell_type": "markdown",
   "metadata": {},
   "source": [
    "# Data Analysis of the toxic comment dataset and EDA practice"
   ]
  },
  {
   "cell_type": "code",
   "execution_count": 4,
   "metadata": {},
   "outputs": [],
   "source": [
    "full_data = pd.read_csv('./data/train_toxic.csv')"
   ]
  },
  {
   "cell_type": "code",
   "execution_count": 28,
   "metadata": {},
   "outputs": [],
   "source": [
    "data = full_data[:100000]"
   ]
  },
  {
   "cell_type": "code",
   "execution_count": 57,
   "metadata": {
    "scrolled": true
   },
   "outputs": [
    {
     "name": "stdout",
     "output_type": "stream",
     "text": [
      "Shape of the data: (100000, 45)\n",
      "\n",
      "Index(['id', 'target', 'comment_text', 'severe_toxicity', 'obscene',\n",
      "       'identity_attack', 'insult', 'threat', 'asian', 'atheist', 'bisexual',\n",
      "       'black', 'buddhist', 'christian', 'female', 'heterosexual', 'hindu',\n",
      "       'homosexual_gay_or_lesbian', 'intellectual_or_learning_disability',\n",
      "       'jewish', 'latino', 'male', 'muslim', 'other_disability',\n",
      "       'other_gender', 'other_race_or_ethnicity', 'other_religion',\n",
      "       'other_sexual_orientation', 'physical_disability',\n",
      "       'psychiatric_or_mental_illness', 'transgender', 'white', 'created_date',\n",
      "       'publication_id', 'parent_id', 'article_id', 'rating', 'funny', 'wow',\n",
      "       'sad', 'likes', 'disagree', 'sexual_explicit',\n",
      "       'identity_annotator_count', 'toxicity_annotator_count'],\n",
      "      dtype='object')\n",
      "count    19625.000000\n",
      "mean         0.106794\n",
      "std          0.263836\n",
      "min          0.000000\n",
      "25%          0.000000\n",
      "50%          0.000000\n",
      "75%          0.000000\n",
      "max          1.000000\n",
      "Name: male, dtype: float64\n",
      "80375\n",
      "<class 'pandas.core.frame.DataFrame'>\n",
      "RangeIndex: 100000 entries, 0 to 99999\n",
      "Data columns (total 45 columns):\n",
      "id                                     100000 non-null int64\n",
      "target                                 100000 non-null float64\n",
      "comment_text                           100000 non-null object\n",
      "severe_toxicity                        100000 non-null float64\n",
      "obscene                                100000 non-null float64\n",
      "identity_attack                        100000 non-null float64\n",
      "insult                                 100000 non-null float64\n",
      "threat                                 100000 non-null float64\n",
      "asian                                  19625 non-null float64\n",
      "atheist                                19625 non-null float64\n",
      "bisexual                               19625 non-null float64\n",
      "black                                  19625 non-null float64\n",
      "buddhist                               19625 non-null float64\n",
      "christian                              19625 non-null float64\n",
      "female                                 19625 non-null float64\n",
      "heterosexual                           19625 non-null float64\n",
      "hindu                                  19625 non-null float64\n",
      "homosexual_gay_or_lesbian              19625 non-null float64\n",
      "intellectual_or_learning_disability    19625 non-null float64\n",
      "jewish                                 19625 non-null float64\n",
      "latino                                 19625 non-null float64\n",
      "male                                   19625 non-null float64\n",
      "muslim                                 19625 non-null float64\n",
      "other_disability                       19625 non-null float64\n",
      "other_gender                           19625 non-null float64\n",
      "other_race_or_ethnicity                19625 non-null float64\n",
      "other_religion                         19625 non-null float64\n",
      "other_sexual_orientation               19625 non-null float64\n",
      "physical_disability                    19625 non-null float64\n",
      "psychiatric_or_mental_illness          19625 non-null float64\n",
      "transgender                            19625 non-null float64\n",
      "white                                  19625 non-null float64\n",
      "created_date                           100000 non-null object\n",
      "publication_id                         100000 non-null int64\n",
      "parent_id                              53528 non-null float64\n",
      "article_id                             100000 non-null int64\n",
      "rating                                 100000 non-null object\n",
      "funny                                  100000 non-null int64\n",
      "wow                                    100000 non-null int64\n",
      "sad                                    100000 non-null int64\n",
      "likes                                  100000 non-null int64\n",
      "disagree                               100000 non-null int64\n",
      "sexual_explicit                        100000 non-null float64\n",
      "identity_annotator_count               100000 non-null int64\n",
      "toxicity_annotator_count               100000 non-null int64\n",
      "dtypes: float64(32), int64(10), object(3)\n",
      "memory usage: 34.3+ MB\n",
      "None\n"
     ]
    },
    {
     "data": {
      "text/plain": [
       "<matplotlib.axes._subplots.AxesSubplot at 0x119616438>"
      ]
     },
     "execution_count": 57,
     "metadata": {},
     "output_type": "execute_result"
    },
    {
     "data": {
      "image/png": "[encoded data removed]",
      "text/plain": [
       "<Figure size 432x288 with 1 Axes>"
      ]
     },
     "metadata": {
      "needs_background": "light"
     },
     "output_type": "display_data"
    }
   ],
   "source": [
    "print(f\"Shape of the data: {data.shape}\\n\")\n",
    "print(data.columns)\n",
    "\n",
    "# id, created_date\n",
    "\n",
    "# features:\n",
    "    # gender[ 'female', 'male' ]\n",
    "    # religion = ['muslim, buddhist', 'christian', hindu', 'jewish', 'latino, other_religion, atheist]\n",
    "    # sexuality = [bisexual, heterosexual, sexual_explicit, transgender, other_sexual_orientation, homosexual_gay_or_lesbian]\n",
    "    # ethnicity = [black, white, other_race_or_ethnicity, asian]\n",
    "    # disability = [intellectual_or_learning_disability, other_disability, physical_disability, psychiatric_or_mental_illness]\n",
    "    # text: 'comment_text', \n",
    "\n",
    "# Label: 'target','severe_toxicity', 'obscene', 'identity_attack', 'insult', 'threat'\n",
    "\n",
    "# additional_sentiment = ['rating', 'funny', 'wow', 'sad', 'likes', 'disagree' ]\n",
    "\n",
    "\n",
    "# print(data.male.count())\n",
    "# print(data.female.count())\n",
    "# print(data.female.isna().sum())\n",
    "# print(data.male.isna().sum())\n",
    "# print(data.other_gender.isna().sum())\n",
    "\n",
    "\n",
    "\n",
    "\n",
    "print(data.male.describe())\n",
    "print(data.male.isna().sum())\n",
    "\n",
    "print(data.info())\n",
    "\n",
    "\n",
    "data.male.value_counts().plot(kind='bar')\n"
   ]
  },
  {
   "cell_type": "markdown",
   "metadata": {},
   "source": [
    "# making ethnicity a single column (horizantal to vertical) \n",
    "\n",
    "\n"
   ]
  },
  {
   "cell_type": "markdown",
   "metadata": {},
   "source": [
    "## id, created_date\n",
    "\n",
    "## features:\n",
    "    # gender[ 'female', 'male' ]\n",
    "    # religion = ['muslim, buddhist', 'christian', hindu', 'jewish', 'latino, other_religion, atheist]\n",
    "    # sexuality = [bisexual, heterosexual, sexual_explicit, transgender, other_sexual_orientation, homosexual_gay_or_lesbian]\n",
    "    # ethnicity = [black, white, other_race_or_ethnicity, asian]\n",
    "    # disability = [intellectual_or_learning_disability, other_disability, physical_disability, psychiatric_or_mental_illness]\n",
    "    # text: 'comment_text', \n",
    "\n",
    "## Label: 'target','severe_toxicity', 'obscene', 'identity_attack', 'insult', 'threat'\n",
    "\n",
    "## additional_sentiment = ['rating', 'funny', 'wow', 'sad', 'likes', 'disagree' ]\n",
    "\n"
   ]
  },
  {
   "cell_type": "code",
   "execution_count": 38,
   "metadata": {},
   "outputs": [
    {
     "name": "stdout",
     "output_type": "stream",
     "text": [
      "black 538\n",
      "white 873\n",
      "other_race_or_ethnicity 9\n",
      "asian 72\n"
     ]
    },
    {
     "data": {
      "text/plain": [
       "175"
      ]
     },
     "execution_count": 38,
     "metadata": {},
     "output_type": "execute_result"
    }
   ],
   "source": [
    "ethnicity = ['black', 'white', 'other_race_or_ethnicity', 'asian']\n",
    "gender[ 'female', 'male' ]\n",
    "religion = ['muslim, buddhist', 'christian', hindu', 'jewish', 'latino, other_religion, atheist]\n",
    "sexuality = [bisexual, heterosexual, sexual_explicit, transgender, other_sexual_orientation, homosexual_gay_or_lesbian]\n",
    "ethnicity = [black, white, other_race_or_ethnicity, asian]\n",
    "disability = [intellectual_or_learning_disability, other_disability, physical_disability, psychiatric_or_mental_illness]\n",
    "for eth in ethnicity:\n",
    "    print(eth, data[eth][data[eth]  > 0.5 ].count())\n",
    "\n",
    "data.black[(data.black  > 0.5)  &  (data.white  > 0.5)].count()\n",
    "# data.querry('data.black  > 0.5 & data.white  > 0.5').count()"
   ]
  },
  {
   "cell_type": "markdown",
   "metadata": {},
   "source": [
    "# Fill Nan Values with three different approaches"
   ]
  },
  {
   "cell_type": "markdown",
   "metadata": {},
   "source": [
    "## Mean/Median imputation"
   ]
  },
  {
   "cell_type": "code",
   "execution_count": 62,
   "metadata": {},
   "outputs": [
    {
     "name": "stdout",
     "output_type": "stream",
     "text": [
      "0\n"
     ]
    }
   ],
   "source": [
    "mean_imputation_data = data.copy()\n",
    "\n",
    "mean_imputation_data.black.fillna(mean_imputation_data['black'].mean(), inplace=True)\n",
    "\n",
    "print(mean_imputation_data.black.isna().sum())\n"
   ]
  },
  {
   "cell_type": "markdown",
   "metadata": {},
   "source": [
    "## Regression imputation"
   ]
  },
  {
   "cell_type": "code",
   "execution_count": null,
   "metadata": {},
   "outputs": [],
   "source": [
    "lr_data = data.copy()\n",
    "\n",
    "# replace all other Nans with mean()\n",
    "\n",
    "lr_data.drop(columns='black').fillna(lr_data.mean())\n",
    "\n",
    "\n",
    "\n",
    "\n",
    "\n",
    "# train_X = lr_data[lr_data.black.notnull()].drop(columns=['black', 'comment_text', 'created_date', 'rating'])\n",
    "# train_Y = lr_data[lr_data.black.notnull()]['black']\n",
    "\n",
    "# test_X = lr_data[lr_data.black.isnull()].drop(columns=['black', 'comment_text', 'created_date', 'rating'])\n",
    "# test_Y = lr_data[lr_data.black.isnull()]['black']\n",
    "\n",
    "# lr =  LinearRegression()\n",
    "\n",
    "# lr.fit(train_X, train_Y)\n",
    "# predicted = lr.predict(test_X)\n",
    "\n",
    "# lr_data[lr_data.black.isnull()]['black'] = predicted"
   ]
  },
  {
   "cell_type": "code",
   "execution_count": null,
   "metadata": {},
   "outputs": [],
   "source": [
    "knn_data = data.copy()\n",
    "\n",
    ">>> nan = np.nan\n",
    ">>> X = [[1, 2, nan], [3, 4, 3], [nan, 6, 5], [8, 8, 7]]\n",
    ">>> imputer = KNNImputer(n_neighbors=2, weights=\"uniform\")\n",
    ">>> imputer.fit_transform(X)"
   ]
  }
 ],
 "metadata": {
  "kernelspec": {
   "display_name": "Python 3",
   "language": "python",
   "name": "python3"
  },
  "language_info": {
   "codemirror_mode": {
    "name": "ipython",
    "version": 3
   },
   "file_extension": ".py",
   "mimetype": "text/x-python",
   "name": "python",
   "nbconvert_exporter": "python",
   "pygments_lexer": "ipython3",
   "version": "3.8.8"
  }
 },
 "nbformat": 4,
 "nbformat_minor": 2
}
