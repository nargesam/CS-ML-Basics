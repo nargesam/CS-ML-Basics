{
 "cells": [
  {
   "cell_type": "code",
   "execution_count": 50,
   "id": "dc521ea4",
   "metadata": {},
   "outputs": [],
   "source": [
    "import pandas as pd\n",
    "\n",
    "from sklearn.feature_extraction import text\n",
    "from sklearn.feature_extraction.text import TfidfVectorizer\n",
    "\n",
    "from sklearn.linear_model import LogisticRegression\n",
    "\n"
   ]
  },
  {
   "cell_type": "code",
   "execution_count": 63,
   "id": "b1e3317c",
   "metadata": {},
   "outputs": [
    {
     "name": "stdout",
     "output_type": "stream",
     "text": [
      "        better      good     harry  harry potter      hero        is  \\\n",
      "Doc1  0.000000  0.396875  0.396875      0.396875  0.000000  0.234400   \n",
      "Doc2  0.463121  0.000000  0.000000      0.000000  0.000000  0.273526   \n",
      "Doc3  0.000000  0.000000  0.000000      0.000000  0.463121  0.273526   \n",
      "\n",
      "      is better   is good   is hero    potter  potter is      prof  \\\n",
      "Doc1   0.000000  0.396875  0.000000  0.396875   0.396875  0.000000   \n",
      "Doc2   0.463121  0.000000  0.000000  0.000000   0.000000  0.352215   \n",
      "Doc3   0.000000  0.000000  0.463121  0.000000   0.000000  0.352215   \n",
      "\n",
      "      prof snape     snape  snape is  \n",
      "Doc1    0.000000  0.000000  0.000000  \n",
      "Doc2    0.352215  0.352215  0.352215  \n",
      "Doc3    0.352215  0.352215  0.352215  \n",
      "  (0, 7)\t0.3968745408286403\n",
      "  (0, 10)\t0.3968745408286403\n",
      "  (0, 3)\t0.3968745408286403\n",
      "  (0, 1)\t0.3968745408286403\n",
      "  (0, 5)\t0.23440049712476196\n",
      "  (0, 9)\t0.3968745408286403\n",
      "  (0, 2)\t0.3968745408286403\n",
      "  (1, 6)\t0.4631205591176297\n",
      "  (1, 14)\t0.35221512235126284\n",
      "  (1, 12)\t0.35221512235126284\n",
      "  (1, 0)\t0.4631205591176297\n",
      "  (1, 13)\t0.35221512235126284\n",
      "  (1, 11)\t0.35221512235126284\n",
      "  (1, 5)\t0.27352646269326086\n",
      "  (2, 8)\t0.4631205591176297\n",
      "  (2, 4)\t0.4631205591176297\n",
      "  (2, 14)\t0.35221512235126284\n",
      "  (2, 12)\t0.35221512235126284\n",
      "  (2, 13)\t0.35221512235126284\n",
      "  (2, 11)\t0.35221512235126284\n",
      "  (2, 5)\t0.27352646269326086\n",
      "{'harry': 2, 'potter': 9, 'is': 5, 'good': 1, 'harry potter': 3, 'potter is': 10, 'is good': 7, 'prof': 11, 'snape': 13, 'better': 0, 'prof snape': 12, 'snape is': 14, 'is better': 6, 'hero': 4, 'is hero': 8}\n"
     ]
    }
   ],
   "source": [
    "# stop_words = ENGLISH_STOP_WORDS()\n",
    "content = [ \"Harry Potter is good\", \"prof snape is better\",  \"prof snape is a hero\" ]\n",
    "Y = [0,1,0, 1]\n",
    "\n",
    "vectorizer = TfidfVectorizer(ngram_range=(1,2))\n",
    "X = vectorizer.fit_transform(content)\n",
    "\n",
    "\n",
    "features = vectorizer.get_feature_names()\n",
    "\n",
    "\n",
    "df_tfidfvect = pd.DataFrame(data = X.toarray(), index = ['Doc1','Doc2', 'Doc3'],columns = features)\n",
    "print(df_tfidfvect)\n",
    "\n",
    "\n",
    "print(X)\n",
    "print(vectorizer.vocabulary_)\n",
    "\n",
    "\n",
    "\n"
   ]
  }
 ],
 "metadata": {
  "kernelspec": {
   "display_name": "Python [conda env:mothership] *",
   "language": "python",
   "name": "conda-env-mothership-py"
  },
  "language_info": {
   "codemirror_mode": {
    "name": "ipython",
    "version": 3
   },
   "file_extension": ".py",
   "mimetype": "text/x-python",
   "name": "python",
   "nbconvert_exporter": "python",
   "pygments_lexer": "ipython3",
   "version": "3.8.8"
  }
 },
 "nbformat": 4,
 "nbformat_minor": 5
}
